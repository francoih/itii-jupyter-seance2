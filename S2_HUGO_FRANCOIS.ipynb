{
 "cells": [
  {
   "cell_type": "code",
   "execution_count": 11,
   "metadata": {},
   "outputs": [
    {
     "name": "stdout",
     "output_type": "stream",
     "text": [
      " P= :  20\n",
      " S=  24\n",
      " Vp=  70\n"
     ]
    }
   ],
   "source": [
    "#Exo1\n",
    "class Rectangle:\n",
    "    def __init__(self,longueur,largeur):\n",
    "        self.longueur = longueur\n",
    "        self.largeur = largeur\n",
    "        \n",
    "    \n",
    "    def Perimetre(self):\n",
    "        return (self.longueur + self.largeur)*2\n",
    "    \n",
    "    \n",
    "    def Surface(self):\n",
    "        return self.longueur*self.largeur\n",
    "    \n",
    "class Parallelepipede(Rectangle):\n",
    "    def __init__(self,longueur,largeur, hauteur):\n",
    "        Rectangle.__init__(self,longueur,largeur)\n",
    "        self.hauteur = hauteur\n",
    "    \n",
    "    \n",
    "    def Volume(self):\n",
    "        return self.longueur*self.largeur*self.hauteur\n",
    "\n",
    "   \n",
    "monRectangle = Rectangle(6, 4)\n",
    "\n",
    "\n",
    "Parallelepipede = Parallelepipede(7,5,2)\n",
    "print(\" P= : \",monRectangle.Perimetre())\n",
    "print(\" S= \", monRectangle.Surface())\n",
    "print(\" Vp= \", monParallelepipede.Volume())"
   ]
  },
  {
   "cell_type": "code",
   "execution_count": 19,
   "metadata": {},
   "outputs": [
    {
     "name": "stdout",
     "output_type": "stream",
     "text": [
      "3 10\n",
      "0 1\n"
     ]
    },
    {
     "ename": "NameError",
     "evalue": "name 'MyVect3' is not defined",
     "output_type": "error",
     "traceback": [
      "\u001b[1;31m---------------------------------------------------------------------------\u001b[0m",
      "\u001b[1;31mNameError\u001b[0m                                 Traceback (most recent call last)",
      "\u001b[1;32m<ipython-input-19-478b31787ea4>\u001b[0m in \u001b[0;36m<module>\u001b[1;34m\u001b[0m\n\u001b[0;32m     18\u001b[0m \u001b[1;33m\u001b[0m\u001b[0m\n\u001b[0;32m     19\u001b[0m \u001b[0mMyVect1\u001b[0m \u001b[1;33m=\u001b[0m \u001b[0mMyVect1\u001b[0m \u001b[1;33m+\u001b[0m \u001b[0mMyVect2\u001b[0m\u001b[1;33m\u001b[0m\u001b[1;33m\u001b[0m\u001b[0m\n\u001b[1;32m---> 20\u001b[1;33m \u001b[0mMyVect3\u001b[0m\u001b[1;33m.\u001b[0m\u001b[0maffiche\u001b[0m\u001b[1;33m(\u001b[0m\u001b[1;33m)\u001b[0m\u001b[1;33m\u001b[0m\u001b[1;33m\u001b[0m\u001b[0m\n\u001b[0m\u001b[0;32m     21\u001b[0m \u001b[1;33m\u001b[0m\u001b[0m\n\u001b[0;32m     22\u001b[0m \u001b[1;33m\u001b[0m\u001b[0m\n",
      "\u001b[1;31mNameError\u001b[0m: name 'MyVect3' is not defined"
     ]
    }
   ],
   "source": [
    "#Exo2\n",
    "\n",
    "class Vecteur2D:\n",
    "    def __init__(self,xcoord,ycoord):\n",
    "        self.x = xcoord\n",
    "        self.y = ycoord\n",
    "        \n",
    "    def affiche(self):\n",
    "        print(self.x, self.y)\n",
    "        \n",
    "    def __add__(vect1,vect2):\n",
    "        return Vecteur2D(vect1.x + vect2.x, vect1.y + vect2.y)\n",
    "    \n",
    "MyVect1 = Vecteur2D(3,10)\n",
    "MyVect1.affiche()\n",
    "MyVect2 = Vecteur2D(0,1)\n",
    "MyVect2.affiche()\n",
    "\n",
    "MyVect1 = MyVect1 + MyVect2\n",
    "MyVect3.affiche()\n",
    "\n",
    "    \n",
    "    \n"
   ]
  },
  {
   "cell_type": "code",
   "execution_count": null,
   "metadata": {},
   "outputs": [],
   "source": []
  }
 ],
 "metadata": {
  "kernelspec": {
   "display_name": "Python 3",
   "language": "python",
   "name": "python3"
  },
  "language_info": {
   "codemirror_mode": {
    "name": "ipython",
    "version": 3
   },
   "file_extension": ".py",
   "mimetype": "text/x-python",
   "name": "python",
   "nbconvert_exporter": "python",
   "pygments_lexer": "ipython3",
   "version": "3.7.6"
  }
 },
 "nbformat": 4,
 "nbformat_minor": 4
}
